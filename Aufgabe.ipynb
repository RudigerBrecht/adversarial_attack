{
  "nbformat": 4,
  "nbformat_minor": 0,
  "metadata": {
    "colab": {
      "provenance": [],
      "gpuType": "T4"
    },
    "kernelspec": {
      "name": "python3",
      "display_name": "Python 3"
    },
    "language_info": {
      "name": "python"
    },
    "accelerator": "GPU"
  },
  "cells": [
    {
      "cell_type": "code",
      "source": [
        "import tensorflow as tf\n",
        "\n",
        "import numpy as np\n",
        "import matplotlib.pyplot as plt\n",
        "\n",
        "from tensorflow.keras.datasets import mnist, cifar10\n"
      ],
      "metadata": {
        "id": "cuk-BeSXcnSQ"
      },
      "execution_count": 2,
      "outputs": []
    },
    {
      "cell_type": "markdown",
      "source": [
        "# Train custom model on CIFAR-10"
      ],
      "metadata": {
        "id": "aWGZY_QWcs1u"
      }
    },
    {
      "cell_type": "markdown",
      "source": [
        "## load dataset"
      ],
      "metadata": {
        "id": "4SGNp7PodgKf"
      }
    },
    {
      "cell_type": "code",
      "source": [
        "(x_train, y_train), (x_test, y_test) = cifar10.load_data()\n"
      ],
      "metadata": {
        "colab": {
          "base_uri": "https://localhost:8080/"
        },
        "id": "zpO8t7_8dD2z",
        "outputId": "290bdac5-c665-4e44-8936-9a2282c3e864"
      },
      "execution_count": 3,
      "outputs": [
        {
          "output_type": "stream",
          "name": "stdout",
          "text": [
            "Downloading data from https://www.cs.toronto.edu/~kriz/cifar-10-python.tar.gz\n",
            "\u001b[1m170498071/170498071\u001b[0m \u001b[32m━━━━━━━━━━━━━━━━━━━━\u001b[0m\u001b[37m\u001b[0m \u001b[1m7s\u001b[0m 0us/step\n"
          ]
        }
      ]
    },
    {
      "cell_type": "code",
      "source": [
        "class_names = ['airplane', 'automobile', 'bird', 'cat', 'deer',\n",
        "               'dog', 'frog', 'horse', 'ship', 'truck']\n",
        "num_classes=len(class_names)"
      ],
      "metadata": {
        "id": "AFoFMw-hfqnl"
      },
      "execution_count": 4,
      "outputs": []
    },
    {
      "cell_type": "markdown",
      "source": [
        "## preporcess data"
      ],
      "metadata": {
        "id": "-Ip1O1NVFr4e"
      }
    },
    {
      "cell_type": "code",
      "source": [
        "train_images = x_train / 255\n",
        "test_images = x_test / 255\n",
        "\n",
        "train_labels = tf.keras.utils.to_categorical(y_train, num_classes)\n",
        "test_labels = tf.keras.utils.to_categorical(y_test, num_classes)"
      ],
      "metadata": {
        "id": "z5AdsWKZgmu1"
      },
      "execution_count": 5,
      "outputs": []
    },
    {
      "cell_type": "markdown",
      "source": [
        "## define model"
      ],
      "metadata": {
        "id": "vpNG1jaPdiLu"
      }
    },
    {
      "cell_type": "code",
      "execution_count": null,
      "metadata": {
        "colab": {
          "base_uri": "https://localhost:8080/"
        },
        "id": "34cE2DqUa_c0",
        "outputId": "9da735e4-93f5-4a7e-e0e1-0d66cf8b7167"
      },
      "outputs": [
        {
          "output_type": "stream",
          "name": "stderr",
          "text": [
            "/usr/local/lib/python3.10/dist-packages/keras/src/layers/convolutional/base_conv.py:107: UserWarning: Do not pass an `input_shape`/`input_dim` argument to a layer. When using Sequential models, prefer using an `Input(shape)` object as the first layer in the model instead.\n",
            "  super().__init__(activity_regularizer=activity_regularizer, **kwargs)\n"
          ]
        }
      ],
      "source": [
        "model = tf.keras.Sequential()\n",
        "\n",
        "model.add(tf.keras.layers.Conv2D(32, (3,3), padding='same', activation='relu', input_shape=(32,32,3)))\n",
        "model.add(tf.keras.layers.BatchNormalization())\n",
        "model.add(tf.keras.layers.Conv2D(32, (3,3), padding='same', activation='relu'))\n",
        "model.add(tf.keras.layers.BatchNormalization())\n",
        "model.add(tf.keras.layers.MaxPooling2D(pool_size=(2,2)))\n",
        "model.add(tf.keras.layers.Dropout(0.3))\n",
        "\n",
        "model.add(tf.keras.layers.Conv2D(64, (3,3), padding='same', activation='relu'))\n",
        "model.add(tf.keras.layers.BatchNormalization())\n",
        "model.add(tf.keras.layers.Conv2D(64, (3,3), padding='same', activation='relu'))\n",
        "model.add(tf.keras.layers.BatchNormalization())\n",
        "model.add(tf.keras.layers.MaxPooling2D(pool_size=(2,2)))\n",
        "model.add(tf.keras.layers.Dropout(0.5))\n",
        "\n",
        "model.add(tf.keras.layers.Conv2D(128, (3,3), padding='same', activation='relu'))\n",
        "model.add(tf.keras.layers.BatchNormalization())\n",
        "model.add(tf.keras.layers.Conv2D(128, (3,3), padding='same', activation='relu'))\n",
        "model.add(tf.keras.layers.BatchNormalization())\n",
        "model.add(tf.keras.layers.MaxPooling2D(pool_size=(2,2)))\n",
        "model.add(tf.keras.layers.Dropout(0.5))\n",
        "\n",
        "model.add(tf.keras.layers.Flatten())\n",
        "model.add(tf.keras.layers.Dense(128, activation='relu'))\n",
        "model.add(tf.keras.layers.BatchNormalization())\n",
        "model.add(tf.keras.layers.Dropout(0.5))\n",
        "model.add(tf.keras.layers.Dense(num_classes, activation='softmax'))    # num_classes = 10\n"
      ]
    },
    {
      "cell_type": "code",
      "source": [
        "model.compile(optimizer='adam', loss=tf.keras.losses.categorical_crossentropy, metrics=['accuracy'])"
      ],
      "metadata": {
        "id": "K7Ivg8TSdSb8"
      },
      "execution_count": null,
      "outputs": []
    },
    {
      "cell_type": "markdown",
      "source": [
        "## train model"
      ],
      "metadata": {
        "id": "N8bWRLe5dj3O"
      }
    },
    {
      "cell_type": "code",
      "source": [
        "# Training the model\n",
        "history = model.fit(train_images, train_labels,\n",
        "                    #batch_size=32,\n",
        "                    epochs=20,\n",
        "                    validation_data=(test_images, test_labels))"
      ],
      "metadata": {
        "colab": {
          "base_uri": "https://localhost:8080/"
        },
        "id": "HRVyeUqmdJL9",
        "outputId": "2b638ce0-0c56-4837-ebd1-26260e87f5f0"
      },
      "execution_count": null,
      "outputs": [
        {
          "output_type": "stream",
          "name": "stdout",
          "text": [
            "Epoch 1/20\n",
            "\u001b[1m1563/1563\u001b[0m \u001b[32m━━━━━━━━━━━━━━━━━━━━\u001b[0m\u001b[37m\u001b[0m \u001b[1m12s\u001b[0m 8ms/step - accuracy: 0.5850 - loss: 1.1668 - val_accuracy: 0.6353 - val_loss: 1.0325\n",
            "Epoch 2/20\n",
            "\u001b[1m1563/1563\u001b[0m \u001b[32m━━━━━━━━━━━━━━━━━━━━\u001b[0m\u001b[37m\u001b[0m \u001b[1m18s\u001b[0m 6ms/step - accuracy: 0.6552 - loss: 0.9897 - val_accuracy: 0.6731 - val_loss: 0.9291\n",
            "Epoch 3/20\n",
            "\u001b[1m1563/1563\u001b[0m \u001b[32m━━━━━━━━━━━━━━━━━━━━\u001b[0m\u001b[37m\u001b[0m \u001b[1m10s\u001b[0m 6ms/step - accuracy: 0.6929 - loss: 0.8835 - val_accuracy: 0.6729 - val_loss: 0.9572\n",
            "Epoch 4/20\n",
            "\u001b[1m1563/1563\u001b[0m \u001b[32m━━━━━━━━━━━━━━━━━━━━\u001b[0m\u001b[37m\u001b[0m \u001b[1m9s\u001b[0m 6ms/step - accuracy: 0.7193 - loss: 0.8140 - val_accuracy: 0.7734 - val_loss: 0.6509\n",
            "Epoch 5/20\n",
            "\u001b[1m1563/1563\u001b[0m \u001b[32m━━━━━━━━━━━━━━━━━━━━\u001b[0m\u001b[37m\u001b[0m \u001b[1m10s\u001b[0m 7ms/step - accuracy: 0.7392 - loss: 0.7584 - val_accuracy: 0.7535 - val_loss: 0.7083\n",
            "Epoch 6/20\n",
            "\u001b[1m1563/1563\u001b[0m \u001b[32m━━━━━━━━━━━━━━━━━━━━\u001b[0m\u001b[37m\u001b[0m \u001b[1m20s\u001b[0m 6ms/step - accuracy: 0.7577 - loss: 0.7092 - val_accuracy: 0.7847 - val_loss: 0.6163\n",
            "Epoch 7/20\n",
            "\u001b[1m1563/1563\u001b[0m \u001b[32m━━━━━━━━━━━━━━━━━━━━\u001b[0m\u001b[37m\u001b[0m \u001b[1m9s\u001b[0m 6ms/step - accuracy: 0.7691 - loss: 0.6805 - val_accuracy: 0.8092 - val_loss: 0.5582\n",
            "Epoch 8/20\n",
            "\u001b[1m1563/1563\u001b[0m \u001b[32m━━━━━━━━━━━━━━━━━━━━\u001b[0m\u001b[37m\u001b[0m \u001b[1m10s\u001b[0m 6ms/step - accuracy: 0.7832 - loss: 0.6460 - val_accuracy: 0.7992 - val_loss: 0.5932\n",
            "Epoch 9/20\n",
            "\u001b[1m1563/1563\u001b[0m \u001b[32m━━━━━━━━━━━━━━━━━━━━\u001b[0m\u001b[37m\u001b[0m \u001b[1m11s\u001b[0m 7ms/step - accuracy: 0.7914 - loss: 0.6155 - val_accuracy: 0.8068 - val_loss: 0.5538\n",
            "Epoch 10/20\n",
            "\u001b[1m1563/1563\u001b[0m \u001b[32m━━━━━━━━━━━━━━━━━━━━\u001b[0m\u001b[37m\u001b[0m \u001b[1m10s\u001b[0m 6ms/step - accuracy: 0.7987 - loss: 0.5957 - val_accuracy: 0.7762 - val_loss: 0.6575\n",
            "Epoch 11/20\n",
            "\u001b[1m1563/1563\u001b[0m \u001b[32m━━━━━━━━━━━━━━━━━━━━\u001b[0m\u001b[37m\u001b[0m \u001b[1m10s\u001b[0m 6ms/step - accuracy: 0.8040 - loss: 0.5760 - val_accuracy: 0.8053 - val_loss: 0.5713\n",
            "Epoch 12/20\n",
            "\u001b[1m1563/1563\u001b[0m \u001b[32m━━━━━━━━━━━━━━━━━━━━\u001b[0m\u001b[37m\u001b[0m \u001b[1m10s\u001b[0m 6ms/step - accuracy: 0.8089 - loss: 0.5609 - val_accuracy: 0.8365 - val_loss: 0.4871\n",
            "Epoch 13/20\n",
            "\u001b[1m1563/1563\u001b[0m \u001b[32m━━━━━━━━━━━━━━━━━━━━\u001b[0m\u001b[37m\u001b[0m \u001b[1m11s\u001b[0m 6ms/step - accuracy: 0.8122 - loss: 0.5445 - val_accuracy: 0.8194 - val_loss: 0.5386\n",
            "Epoch 14/20\n",
            "\u001b[1m1563/1563\u001b[0m \u001b[32m━━━━━━━━━━━━━━━━━━━━\u001b[0m\u001b[37m\u001b[0m \u001b[1m10s\u001b[0m 6ms/step - accuracy: 0.8173 - loss: 0.5364 - val_accuracy: 0.8306 - val_loss: 0.4972\n",
            "Epoch 15/20\n",
            "\u001b[1m1563/1563\u001b[0m \u001b[32m━━━━━━━━━━━━━━━━━━━━\u001b[0m\u001b[37m\u001b[0m \u001b[1m10s\u001b[0m 6ms/step - accuracy: 0.8224 - loss: 0.5207 - val_accuracy: 0.8353 - val_loss: 0.4899\n",
            "Epoch 16/20\n",
            "\u001b[1m1563/1563\u001b[0m \u001b[32m━━━━━━━━━━━━━━━━━━━━\u001b[0m\u001b[37m\u001b[0m \u001b[1m10s\u001b[0m 6ms/step - accuracy: 0.8257 - loss: 0.5082 - val_accuracy: 0.8373 - val_loss: 0.4829\n",
            "Epoch 17/20\n",
            "\u001b[1m1563/1563\u001b[0m \u001b[32m━━━━━━━━━━━━━━━━━━━━\u001b[0m\u001b[37m\u001b[0m \u001b[1m9s\u001b[0m 6ms/step - accuracy: 0.8279 - loss: 0.5029 - val_accuracy: 0.8442 - val_loss: 0.4636\n",
            "Epoch 18/20\n",
            "\u001b[1m1563/1563\u001b[0m \u001b[32m━━━━━━━━━━━━━━━━━━━━\u001b[0m\u001b[37m\u001b[0m \u001b[1m10s\u001b[0m 6ms/step - accuracy: 0.8310 - loss: 0.4971 - val_accuracy: 0.8331 - val_loss: 0.4951\n",
            "Epoch 19/20\n",
            "\u001b[1m1563/1563\u001b[0m \u001b[32m━━━━━━━━━━━━━━━━━━━━\u001b[0m\u001b[37m\u001b[0m \u001b[1m11s\u001b[0m 7ms/step - accuracy: 0.8352 - loss: 0.4796 - val_accuracy: 0.8323 - val_loss: 0.4818\n",
            "Epoch 20/20\n",
            "\u001b[1m1563/1563\u001b[0m \u001b[32m━━━━━━━━━━━━━━━━━━━━\u001b[0m\u001b[37m\u001b[0m \u001b[1m20s\u001b[0m 6ms/step - accuracy: 0.8373 - loss: 0.4798 - val_accuracy: 0.8554 - val_loss: 0.4347\n"
          ]
        }
      ]
    },
    {
      "cell_type": "code",
      "source": [
        "model.save('my_classifier.h5')"
      ],
      "metadata": {
        "colab": {
          "base_uri": "https://localhost:8080/"
        },
        "id": "2kF-stjMhrHo",
        "outputId": "7309fed0-9495-4309-ebbe-fe547c7ff13a"
      },
      "execution_count": null,
      "outputs": [
        {
          "output_type": "stream",
          "name": "stderr",
          "text": [
            "WARNING:absl:You are saving your model as an HDF5 file via `model.save()` or `keras.saving.save_model(model)`. This file format is considered legacy. We recommend using instead the native Keras format, e.g. `model.save('my_model.keras')` or `keras.saving.save_model(model, 'my_model.keras')`. \n"
          ]
        }
      ]
    },
    {
      "cell_type": "code",
      "source": [
        "plt.subplot(121)\n",
        "plt.plot(history.history['loss'], label=\"loss\")\n",
        "plt.plot(history.history['val_loss'], label=\"val_loss\")\n",
        "plt.legend()\n",
        "\n",
        "plt.subplot(122)\n",
        "plt.plot(history.history['accuracy'], label=\"accuracy\")\n",
        "plt.plot(history.history['val_accuracy'], label=\"val_accuracy\")\n",
        "plt.legend()"
      ],
      "metadata": {
        "colab": {
          "base_uri": "https://localhost:8080/",
          "height": 447
        },
        "id": "t7vjrUXSdRNl",
        "outputId": "2104f3b6-1f1b-4baf-8e9c-d5801c67d0b7"
      },
      "execution_count": null,
      "outputs": [
        {
          "output_type": "execute_result",
          "data": {
            "text/plain": [
              "<matplotlib.legend.Legend at 0x7ea387b8d3c0>"
            ]
          },
          "metadata": {},
          "execution_count": 34
        },
        {
          "output_type": "display_data",
          "data": {
            "text/plain": [
              "<Figure size 640x480 with 2 Axes>"
            ],
            "image/png": "[encoded data removed]"
          },
          "metadata": {}
        }
      ]
    },
    {
      "cell_type": "code",
      "source": [
        "model_acc = model.evaluate(test_images, test_labels, verbose=0)\n",
        "print(f\"Accuracy: {np.round(model_acc[1]*100,2)}%\")\n"
      ],
      "metadata": {
        "colab": {
          "base_uri": "https://localhost:8080/"
        },
        "id": "NDcT1aLqlc6u",
        "outputId": "ace3906c-9cd1-4c2b-f3a2-a045c8ba57a7"
      },
      "execution_count": null,
      "outputs": [
        {
          "output_type": "stream",
          "name": "stdout",
          "text": [
            "Accuracy: 85.54%\n"
          ]
        }
      ]
    },
    {
      "cell_type": "markdown",
      "source": [
        "# Adversarial Attacks"
      ],
      "metadata": {
        "id": "vPlGYLtah5RY"
      }
    },
    {
      "cell_type": "code",
      "source": [
        "# load model\n",
        "model = tf.keras.models.load_model('my_classifier.h5')"
      ],
      "metadata": {
        "colab": {
          "base_uri": "https://localhost:8080/"
        },
        "id": "crg8Ju1ki2-x",
        "outputId": "4f1b33e7-c8ee-484c-ca02-21c560860fb1"
      },
      "execution_count": 6,
      "outputs": [
        {
          "output_type": "stream",
          "name": "stderr",
          "text": [
            "WARNING:absl:Compiled the loaded model, but the compiled metrics have yet to be built. `model.compile_metrics` will be empty until you train or evaluate the model.\n"
          ]
        }
      ]
    },
    {
      "cell_type": "code",
      "source": [
        "model_acc = model.evaluate(test_images, test_labels, verbose=0)\n",
        "print(f\"Accuracy: {np.round(model_acc[1]*100,2)}%\")"
      ],
      "metadata": {
        "colab": {
          "base_uri": "https://localhost:8080/"
        },
        "id": "BQDw8QIgGK_T",
        "outputId": "e4bad54c-9c19-4420-cea2-d1d03583a3d1"
      },
      "execution_count": 10,
      "outputs": [
        {
          "output_type": "stream",
          "name": "stdout",
          "text": [
            "Accuracy: 85.54%\n"
          ]
        }
      ]
    },
    {
      "cell_type": "markdown",
      "source": [
        "## white box attack (Fast gradient sign method)"
      ],
      "metadata": {
        "id": "0H1ICDlLix_j"
      }
    },
    {
      "cell_type": "code",
      "source": [
        "def generate_adversary(image, label):\n",
        "  image = tf.cast(image, tf.float32)\n",
        "\n",
        "  with tf.GradientTape() as tape:\n",
        "    tape.watch(image)\n",
        "    prediction = model(image)\n",
        "    loss = tf.keras.losses.MSE(label, prediction)\n",
        "  gradient = tape.gradient(loss, image)\n",
        "  sign_grad = tf.sign(gradient)\n",
        "\n",
        "  return sign_grad"
      ],
      "metadata": {
        "id": "cHE8i8g1h--R"
      },
      "execution_count": 7,
      "outputs": []
    },
    {
      "cell_type": "code",
      "source": [
        "img = test_images[0:1,]\n",
        "label=test_labels[0:1,]\n",
        "\n",
        "perturbations = generate_adversary(img,label).numpy()\n",
        "adversarial = img + (perturbations * 0.05)\n",
        "\n",
        "pred_label= np.argmax(model(img))\n",
        "pred_label_adv= np.argmax(model(adversarial))\n"
      ],
      "metadata": {
        "id": "vp9DrSoti2Er"
      },
      "execution_count": 8,
      "outputs": []
    },
    {
      "cell_type": "code",
      "source": [
        "plt.subplot(121)\n",
        "plt.imshow(img[0,])\n",
        "plt.title(\"Original Image: \"+class_names[pred_label])\n",
        "plt.subplot(122)\n",
        "plt.imshow(adversarial[0])\n",
        "plt.title(\"Image with Adversary: \"+class_names[pred_label_adv])"
      ],
      "metadata": {
        "colab": {
          "base_uri": "https://localhost:8080/",
          "height": 363
        },
        "id": "WN_NzVeXjSAJ",
        "outputId": "3751e419-fbc4-4e84-b5a0-09e1022a335c"
      },
      "execution_count": 9,
      "outputs": [
        {
          "output_type": "stream",
          "name": "stderr",
          "text": [
            "WARNING:matplotlib.image:Clipping input data to the valid range for imshow with RGB data ([0..1] for floats or [0..255] for integers). Got range [0.008823528666706645..1.046078432117607].\n"
          ]
        },
        {
          "output_type": "execute_result",
          "data": {
            "text/plain": [
              "Text(0.5, 1.0, 'Image with Adversary: frog')"
            ]
          },
          "metadata": {},
          "execution_count": 9
        },
        {
          "output_type": "display_data",
          "data": {
            "text/plain": [
              "<Figure size 640x480 with 2 Axes>"
            ],
            "image/png": "[encoded data removed]"
          },
          "metadata": {}
        }
      ]
    },
    {
      "cell_type": "markdown",
      "source": [
        "### accuracy of adversary test dataset"
      ],
      "metadata": {
        "id": "HCrI4oN4kpUb"
      }
    },
    {
      "cell_type": "code",
      "source": [
        "test_images_adv=np.zeros(test_images.shape)\n",
        "\n",
        "for i in range(len(test_images)//10):\n",
        "  img  = test_images[i:i+10,]\n",
        "  label= test_labels[i:i+10,]\n",
        "\n",
        "  perturbations = generate_adversary(img,label).numpy()\n",
        "  adversarial = img + (perturbations * 0.05)\n",
        "\n",
        "  test_images_adv[i:i+10,]=adversarial"
      ],
      "metadata": {
        "id": "GTt-3iJSkfoX"
      },
      "execution_count": 17,
      "outputs": []
    },
    {
      "cell_type": "code",
      "source": [
        "model_acc_adv = model.evaluate(test_images_adv, test_labels, verbose=0)\n",
        "print(f\"Accuracy: {np.round(model_acc_adv[1]*100,2)}%\")\n"
      ],
      "metadata": {
        "colab": {
          "base_uri": "https://localhost:8080/"
        },
        "id": "ew4cK_RmkKM0",
        "outputId": "20f42038-d898-4615-c34a-a5d92c1bcb93"
      },
      "execution_count": 18,
      "outputs": [
        {
          "output_type": "stream",
          "name": "stdout",
          "text": [
            "Accuracy: 9.69%\n"
          ]
        }
      ]
    },
    {
      "cell_type": "markdown",
      "source": [
        "# compare accuracy"
      ],
      "metadata": {
        "id": "CspJkf1-GTRc"
      }
    },
    {
      "cell_type": "code",
      "source": [
        "plt.bar([1,2],[model_acc[1]*100,model_acc_adv[1]*100])\n",
        "plt.xticks([1, 2], ['normal', 'adversarial'])\n",
        "plt.ylabel('accuracy')"
      ],
      "metadata": {
        "id": "XtIaypnLzPUL",
        "colab": {
          "base_uri": "https://localhost:8080/",
          "height": 447
        },
        "outputId": "a53619d8-9430-4baf-9080-54d29936b312"
      },
      "execution_count": 19,
      "outputs": [
        {
          "output_type": "execute_result",
          "data": {
            "text/plain": [
              "Text(0, 0.5, 'accuracy')"
            ]
          },
          "metadata": {},
          "execution_count": 19
        },
        {
          "output_type": "display_data",
          "data": {
            "text/plain": [
              "<Figure size 640x480 with 1 Axes>"
            ],
            "image/png": "[encoded data removed]"
          },
          "metadata": {}
        }
      ]
    },
    {
      "cell_type": "code",
      "source": [],
      "metadata": {
        "id": "Cuf07q4pGfaW"
      },
      "execution_count": null,
      "outputs": []
    }
  ]
}